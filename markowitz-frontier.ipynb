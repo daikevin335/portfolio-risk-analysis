{
 "cells": [
  {
   "cell_type": "markdown",
   "id": "bcde311a",
   "metadata": {},
   "source": [
    "# Portfolio Optimization \n",
    "\n",
    "## Config & Imports\n",
    "This cell sets up configuration parameters amd imports neccessary libaries. \n",
    "The configuration defines stocks that will be analyzed, the time period, and key parameters like the risk-free rate."
   ]
  },
  {
   "cell_type": "code",
   "execution_count": 2,
   "id": "1ddb6134",
   "metadata": {},
   "outputs": [
    {
     "name": "stdout",
     "output_type": "stream",
     "text": [
      "Current Configuration:\n",
      "  TICKERS: ['AAPL', 'MSFT', 'GOOGL', 'AMZN', 'TSLA', 'META', 'NVDA', 'BRK-B']\n",
      "  START_DATE: 2020-10-17 21:34:56.489310\n",
      "  END_DATE: 2025-10-16 21:34:56.489319\n",
      "  INTERVAL: 1mo\n",
      "  RF_ANNUAL: 0.0412\n",
      "  ALLOW_SHORTS: False\n",
      "  FREQUENCY: monthly\n",
      "\n",
      "Annualization factor: 12\n",
      "Date range: 2020-10-17 to 2025-10-16\n",
      "Risk-free rate: 0.0412 (4.12%)\n"
     ]
    },
    {
     "name": "stderr",
     "output_type": "stream",
     "text": [
      "/var/folders/9j/6ggnp3zd5jn2m5lbp3_91tr00000gn/T/ipykernel_39268/1437235916.py:39: FutureWarning: Series.__getitem__ treating keys as positions is deprecated. In a future version, integer keys will always be treated as labels (consistent with DataFrame behavior). To access a value by position, use `ser.iloc[pos]`\n",
      "  rf_rate = ten_year_treasury_rate[-1] # Convert to decimal\n"
     ]
    }
   ],
   "source": [
    "# Import required libraries \n",
    "import numpy as np\n",
    "import pandas as pd\n",
    "import yfinance as yf\n",
    "from datetime import datetime, timedelta\n",
    "from scipy.optimize import minimize\n",
    "import matplotlib.pyplot as plt\n",
    "from fredapi import Fred\n",
    "\n",
    "# Configuration\n",
    "CONFIG = {\n",
    "    'TICKERS': ['AAPL', 'MSFT', 'GOOGL', 'AMZN', 'TSLA', 'META', 'NVDA', 'BRK-B'],\n",
    "    'START_DATE': datetime.now() - timedelta(days=5*365),  # 5 years ago\n",
    "    'END_DATE': datetime.now(),  # Today\n",
    "    'INTERVAL': '1mo',  # Monthly data\n",
    "    'RF_ANNUAL': None,  # Will fetch from FRED\n",
    "    'ALLOW_SHORTS': False,  # Long-only portfolios\n",
    "    'FREQUENCY': 'monthly',\n",
    "    'FRED_API_KEY': '80d939285a25091784ba2f5be77fa106'\n",
    "}\n",
    "\n",
    "def annualization_factor(freq): \n",
    "   # Convert frequency to annulization factor \n",
    "   if freq == 'daily':\n",
    "      return 252\n",
    "   elif freq == 'weekly':\n",
    "      return 52\n",
    "   elif freq == 'monthly':\n",
    "      return 12\n",
    "   else: \n",
    "      raise ValueError(f\"Unsupported frequency: {freq}\")\n",
    "\n",
    "# Set risk-free rate \n",
    "def get_rf_rate():\n",
    "   # Fetch curent risk-free rate from FRED\n",
    "   fred = Fred(api_key = '80d939285a25091784ba2f5be77fa106')\n",
    "   ten_year_treasury_rate = fred.get_series('GS10') / 100\n",
    "   # Get 10-year Treasury Constant Maturity Rate (most recent)\n",
    "   rf_rate = ten_year_treasury_rate[-1] # Convert to decimal \n",
    "   return rf_rate\n",
    "\n",
    "# Fetch risk-free rate\n",
    "CONFIG['RF_ANNUAL'] = get_rf_rate()\n",
    "\n",
    "# Checkpoint: Print configuration \n",
    "print(\"Current Configuration:\")\n",
    "for key, value in CONFIG.items():\n",
    "   if key!= 'FRED_API_KEY': # Don't print API key\n",
    "      print(f\"  {key}: {value}\")\n",
    "print(f\"\\nAnnualization factor: {annualization_factor(CONFIG['FREQUENCY'])}\")\n",
    "print(f\"Date range: {CONFIG['START_DATE'].strftime('%Y-%m-%d')} to {CONFIG['END_DATE'].strftime('%Y-%m-%d')}\")\n",
    "print(f\"Risk-free rate: {CONFIG['RF_ANNUAL']:.4f} ({CONFIG['RF_ANNUAL']*100:.2f}%)\")\n",
    "      \n"
   ]
  },
  {
   "cell_type": "markdown",
   "id": "8a37d97f",
   "metadata": {},
   "source": [
    "## Data Import (yfinance)\n",
    "This cell fetches actual stock price data from yfinance. \n",
    "Will need to adjust closing prices for all tickers over the 5-year period, then clean data by forward-filling any missing values and dropping any remaining NaNs. "
   ]
  },
  {
   "cell_type": "code",
   "execution_count": 7,
   "id": "05947285",
   "metadata": {},
   "outputs": [
    {
     "name": "stdout",
     "output_type": "stream",
     "text": [
      "Fetching data for 8 tickers...\n"
     ]
    },
    {
     "name": "stderr",
     "output_type": "stream",
     "text": [
      "/var/folders/9j/6ggnp3zd5jn2m5lbp3_91tr00000gn/T/ipykernel_39268/3371259864.py:6: FutureWarning: YF.download() has changed argument auto_adjust default to True\n",
      "  prices = yf.download(tickers, start=start_date, end=end_date,\n"
     ]
    },
    {
     "name": "stdout",
     "output_type": "stream",
     "text": [
      "\n",
      "Data shape: (60, 8)\n",
      "Date range: 2020-11-01 to 2025-10-01\n",
      "Number of observations: 60\n",
      "Number of assets: 8\n",
      "\n",
      "First few rows:\n",
      "Ticker            AAPL        AMZN       BRK-B       GOOGL        META  \\\n",
      "Date                                                                     \n",
      "2020-11-01  115.802048  158.401993  228.910004   87.119125  275.273010   \n",
      "2020-12-01  129.292572  162.846497  231.869995   87.031738  271.486389   \n",
      "2021-01-01  128.581299  160.309998  227.869995   90.742142  256.747223   \n",
      "2021-02-01  118.155243  154.646500  240.509995  100.403008  256.041565   \n",
      "2021-03-01  119.200340  154.703995  255.470001  102.419601  292.725403   \n",
      "\n",
      "Ticker            MSFT       NVDA        TSLA  \n",
      "Date                                           \n",
      "2020-11-01  205.255783  13.360714  189.199997  \n",
      "2020-12-01  213.820312  13.015269  235.223328  \n",
      "2021-01-01  222.991455  12.954044  264.510010  \n",
      "2021-02-01  223.395187  13.676804  225.166672  \n",
      "2021-03-01  227.176147  13.311560  222.643326  \n"
     ]
    }
   ],
   "source": [
    "# Data import \n",
    "def fetch_prices(tickers, start_date, end_date, interval):\n",
    "    # Fetch adjusted closing prices for given tickers\n",
    "    # Returns: DataFrame with forward-filled, cleaned price data\n",
    "    print(f\"Fetching data for {len(tickers)} tickers...\")\n",
    "    prices = yf.download(tickers, start=start_date, end=end_date, \n",
    "                        interval=interval, progress=False)\n",
    "    \n",
    "    # Handle multi-level columns - get Close prices \n",
    "    if prices.columns.nlevels > 1:\n",
    "        prices = prices['Close']  # Using Close since Adj Close not available for monthly\n",
    "    else:\n",
    "        # Single level columns - prices should already be Close\n",
    "        pass\n",
    "    \n",
    "    # Forward-fill missing values, then drop any remaining NaNs (updated syntax)\n",
    "    prices = prices.ffill().dropna()\n",
    "    \n",
    "    return prices\n",
    "\n",
    "# Fetch the price data\n",
    "prices = fetch_prices(CONFIG['TICKERS'], CONFIG['START_DATE'], \n",
    "                     CONFIG['END_DATE'], CONFIG['INTERVAL'])\n",
    "\n",
    "# Checkpoint: verify data quality \n",
    "print(f\"\\nData shape: {prices.shape}\")\n",
    "print(f\"Date range: {prices.index[0].strftime('%Y-%m-%d')} to {prices.index[-1].strftime('%Y-%m-%d')}\")\n",
    "print(f\"Number of observations: {len(prices)}\")\n",
    "print(f\"Number of assets: {prices.shape[1]}\")\n",
    "print(\"\\nFirst few rows:\")\n",
    "print(prices.head())\n",
    "assert prices.isnull().sum().sum() == 0, \"Should have no missing values after cleaning\""
   ]
  }
 ],
 "metadata": {
  "kernelspec": {
   "display_name": "Python 3",
   "language": "python",
   "name": "python3"
  },
  "language_info": {
   "codemirror_mode": {
    "name": "ipython",
    "version": 3
   },
   "file_extension": ".py",
   "mimetype": "text/x-python",
   "name": "python",
   "nbconvert_exporter": "python",
   "pygments_lexer": "ipython3",
   "version": "3.9.6"
  }
 },
 "nbformat": 4,
 "nbformat_minor": 5
}
