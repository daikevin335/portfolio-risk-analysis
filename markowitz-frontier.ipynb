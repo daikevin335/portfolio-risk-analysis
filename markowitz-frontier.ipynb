{
 "cells": [
  {
   "cell_type": "markdown",
   "id": "bcde311a",
   "metadata": {},
   "source": [
    "# Portfolio Optimization using Markowitz Mean-Variance Model\n",
    "THis notebook implements modern protfolio theory using mean-variance anaylsis\n",
    "## Import required libraries "
   ]
  },
  {
   "cell_type": "code",
   "execution_count": null,
   "id": "1b03a47b",
   "metadata": {},
   "outputs": [],
   "source": [
    "import yfinance as yf \n",
    "import pandas as pd\n",
    "from datetime import datatime, timedeltaimport\n",
    "import numpy as np \n",
    "import matplotlib.pylot as plt"
   ]
  },
  {
   "cell_type": "markdown",
   "id": "f50e2b6b",
   "metadata": {},
   "source": [
    "## Portfoli Configuration\n",
    "### Define list of tickers"
   ]
  },
  {
   "cell_type": "code",
   "execution_count": null,
   "id": "7d4109e9",
   "metadata": {},
   "outputs": [],
   "source": [
    "# Major asset classes: \n",
    "# SPY - S&P 500\n",
    "# QQQ - US Tech Stocks\n",
    "# VTI - Total US Market\n",
    "# BND - U.S Bonds\n",
    "# GLD - Gold\n",
    "\n",
    "tickers = ['SPY','QQQ','VTI','BND','GLD'] "
   ]
  },
  {
   "cell_type": "markdown",
   "id": "717103b2",
   "metadata": {},
   "source": [
    "### Set date range"
   ]
  },
  {
   "cell_type": "code",
   "execution_count": null,
   "id": "b24b7605",
   "metadata": {},
   "outputs": [],
   "source": [
    "# Setting date range from 5 years ago to tdday \n",
    "end_date = datetime.now()\n",
    "start_date = end_date - timedelta(days = 365*5)"
   ]
  }
 ],
 "metadata": {
  "language_info": {
   "name": "python"
  }
 },
 "nbformat": 4,
 "nbformat_minor": 5
}
